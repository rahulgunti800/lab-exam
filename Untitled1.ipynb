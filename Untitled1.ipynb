{
  "nbformat": 4,
  "nbformat_minor": 0,
  "metadata": {
    "colab": {
      "provenance": [],
      "authorship_tag": "ABX9TyPYlo+hqhZVpd5CNC9pJtWi",
      "include_colab_link": true
    },
    "kernelspec": {
      "name": "python3",
      "display_name": "Python 3"
    },
    "language_info": {
      "name": "python"
    }
  },
  "cells": [
    {
      "cell_type": "markdown",
      "metadata": {
        "id": "view-in-github",
        "colab_type": "text"
      },
      "source": [
        "<a href=\"https://colab.research.google.com/github/rahulgunti800/lab-exam/blob/main/Untitled1.ipynb\" target=\"_parent\"><img src=\"https://colab.research.google.com/assets/colab-badge.svg\" alt=\"Open In Colab\"/></a>"
      ]
    },
    {
      "cell_type": "code",
      "execution_count": 1,
      "metadata": {
        "id": "GV866O1ZaZTT"
      },
      "outputs": [],
      "source": [
        "\n",
        "import pandas as pd"
      ]
    },
    {
      "cell_type": "code",
      "source": [
        "from google.colab import drive\n",
        "drive.mount=('/content/Copy of Even.xlsx')\n"
      ],
      "metadata": {
        "id": "7lsAOvCnamNs"
      },
      "execution_count": 5,
      "outputs": []
    },
    {
      "cell_type": "code",
      "source": [
        "df = pd.read_excel('/content/Copy of Even.xlsx')"
      ],
      "metadata": {
        "id": "iFiFUuaEa7pF"
      },
      "execution_count": 7,
      "outputs": []
    },
    {
      "cell_type": "code",
      "source": [
        "num_unique_roles = df[\"Job_Role\"].nunique()\n",
        "unique_roles = df[\"Job_Role\"].unique()\n",
        "print(\"Number of unique job roles:\", num_unique_roles)\n",
        "print(\"Unique job roles:\", unique_roles)\n"
      ],
      "metadata": {
        "colab": {
          "base_uri": "https://localhost:8080/"
        },
        "id": "I7Ut8EH2bJLU",
        "outputId": "68bfb39d-1c80-4f89-df51-3efbd0ab2114"
      },
      "execution_count": 8,
      "outputs": [
        {
          "output_type": "stream",
          "name": "stdout",
          "text": [
            "Number of unique job roles: 5\n",
            "Unique job roles: ['Developer' 'Manager' 'Engineer' 'Analyst' 'Data Scientist' nan]\n"
          ]
        }
      ]
    },
    {
      "cell_type": "code",
      "source": [
        "duplicate_employees = df[df.duplicated(subset=[\"Employee_ID\"], keep=False)]\n",
        "\n",
        "print(duplicate_employees)"
      ],
      "metadata": {
        "colab": {
          "base_uri": "https://localhost:8080/"
        },
        "id": "Mtmwofn6bNoU",
        "outputId": "cb79c604-7b5f-4d5a-cad7-0533136904ba"
      },
      "execution_count": 9,
      "outputs": [
        {
          "output_type": "stream",
          "name": "stdout",
          "text": [
            "    Employee_Name  Employee_ID        Job_Role  Phone_Number  \\\n",
            "6   Michael Jones         3654         Manager  8.045243e+09   \n",
            "16    Laura Jones         5596         Analyst  6.650995e+09   \n",
            "50     John Jones         1442  Data Scientist  3.139018e+09   \n",
            "56            NaN         3654       Developer  5.844402e+09   \n",
            "72    Jane Wilson         5596         Manager  9.602139e+09   \n",
            "98    Sarah Smith         1442         Analyst  3.294945e+09   \n",
            "\n",
            "                        Email_ID  Total_Work_Hour_per_Month  Salary_per_Month  \n",
            "6     laura.williams@example.com                      160.0           11200.0  \n",
            "16     john.williams@example.com                      200.0           10000.0  \n",
            "50     laura.williams@sample.org                      160.0            8000.0  \n",
            "56          laura.brown@test.net                      -10.0          100000.0  \n",
            "72          jane.miller@test.net                      200.0           12000.0  \n",
            "98  jessica.anderson@example.com                      -10.0           -5000.0  \n"
          ]
        }
      ]
    },
    {
      "cell_type": "code",
      "source": [
        "negative_salaries = df[df[\"Salary_per_Month\"] < 0]\n",
        "print(negative_salaries)"
      ],
      "metadata": {
        "colab": {
          "base_uri": "https://localhost:8080/"
        },
        "id": "n2Xsgxe8bSgc",
        "outputId": "ab87df07-6389-4fed-e825-4445563d5bcb"
      },
      "execution_count": 10,
      "outputs": [
        {
          "output_type": "stream",
          "name": "stdout",
          "text": [
            "      Employee_Name  Employee_ID        Job_Role  Phone_Number  \\\n",
            "2    Sarah Anderson         2353       Developer  9.463822e+09   \n",
            "8               NaN         5890       Developer  3.155312e+09   \n",
            "12      Laura Davis         6915        Engineer  9.849898e+09   \n",
            "14   Michael Miller         1634  Data Scientist  2.416309e+09   \n",
            "17     John Johnson         8521         Analyst  8.917196e+09   \n",
            "20      Laura Davis         8202             NaN  5.790057e+09   \n",
            "32              NaN         1603        Engineer  4.795532e+09   \n",
            "38     Emily Wilson         9713         Manager  7.156704e+09   \n",
            "41    Jane Williams         7226             NaN  5.351126e+09   \n",
            "48      Chris Jones         9320  Data Scientist  2.767192e+09   \n",
            "60       Jane Jones         6742  Data Scientist  8.355664e+09   \n",
            "62      David Brown         5344  Data Scientist  2.606042e+09   \n",
            "64   Jessica Wilson         6131       Developer  1.805531e+09   \n",
            "70  Michael Johnson         5045         Analyst  8.703092e+09   \n",
            "71    Jane Anderson         8889         Manager  7.736842e+09   \n",
            "81    Jessica Brown         8979        Engineer  3.949648e+09   \n",
            "87    Sarah Johnson         3476             NaN           NaN   \n",
            "89       Jane Jones         7778  Data Scientist           NaN   \n",
            "93    Laura Johnson         2658        Engineer  2.847548e+09   \n",
            "98      Sarah Smith         1442         Analyst  3.294945e+09   \n",
            "\n",
            "                        Email_ID  Total_Work_Hour_per_Month  Salary_per_Month  \n",
            "2        sarah.wilson@sample.org                     9999.0           -5000.0  \n",
            "8         jane.williams@test.net                     9999.0           -5000.0  \n",
            "12       sarah.brown@example.com                        NaN           -5000.0  \n",
            "14        emily.johnson@test.net                     9999.0           -5000.0  \n",
            "17    jessica.miller@example.com                        NaN           -5000.0  \n",
            "20                           NaN                     9999.0           -5000.0  \n",
            "32          emily.jones@test.net                     9999.0           -5000.0  \n",
            "38        jessica.smith@test.net                      -10.0           -5000.0  \n",
            "41        david.johnson@test.net                     9999.0           -5000.0  \n",
            "48       laura.taylor@sample.org                      -10.0           -5000.0  \n",
            "60       james.wilson@sample.org                      -10.0           -5000.0  \n",
            "62                           NaN                     9999.0           -5000.0  \n",
            "64           john.davis@test.net                        NaN           -5000.0  \n",
            "70    michael.miller@example.com                     9999.0           -5000.0  \n",
            "71     michael.smith@example.com                     9999.0           -5000.0  \n",
            "81     sarah.johnson@example.com                      -10.0           -5000.0  \n",
            "87     jessica.wilson@sample.org                     9999.0           -5000.0  \n",
            "89       sarah.brown@example.com                     9999.0           -5000.0  \n",
            "93      james.wilson@example.com                      -10.0           -5000.0  \n",
            "98  jessica.anderson@example.com                      -10.0           -5000.0  \n"
          ]
        }
      ]
    },
    {
      "cell_type": "code",
      "source": [
        "import re\n",
        "import pandas as pd\n",
        "\n",
        "def clean_phone_number(phone_number):\n",
        "    if pd.isna(phone_number):\n",
        "        return None\n",
        "\n",
        "    cleaned = re.sub(r'\\D', '', str(phone_number))\n",
        "\n",
        "    if cleaned.startswith('0091'):\n",
        "        cleaned = '+91' + cleaned[4:]\n",
        "    elif cleaned.startswith('91'):\n",
        "        cleaned = '+91' + cleaned[2:]\n",
        "    elif cleaned.startswith('0'):\n",
        "        cleaned = '+91' + cleaned[1:]\n",
        "    elif len(cleaned) == 10:\n",
        "        cleaned = '+91' + cleaned\n",
        "    elif len(cleaned) > 12:\n",
        "        return '+' + cleaned\n",
        "\n",
        "    return cleaned\n",
        "\n",
        "\n",
        "df = pd.DataFrame({'Phone_Number': ['+91 9876543210', '0091-8765432109', '09876543210', '9876543210', '+1-234-567-8901', None]})\n",
        "df['Phone_Number'] = df['Phone_Number'].apply(clean_phone_number)\n",
        "\n",
        "print(df)"
      ],
      "metadata": {
        "colab": {
          "base_uri": "https://localhost:8080/"
        },
        "id": "9DGbo9subWAM",
        "outputId": "45a9c8d6-1e92-433c-f10e-a61782af4fed"
      },
      "execution_count": 11,
      "outputs": [
        {
          "output_type": "stream",
          "name": "stdout",
          "text": [
            "    Phone_Number\n",
            "0  +919876543210\n",
            "1  +918765432109\n",
            "2  +919876543210\n",
            "3  +919876543210\n",
            "4    12345678901\n",
            "5           None\n"
          ]
        }
      ]
    },
    {
      "cell_type": "code",
      "source": [],
      "metadata": {
        "id": "ShcbASQ4cAXE"
      },
      "execution_count": 18,
      "outputs": []
    }
  ]
}